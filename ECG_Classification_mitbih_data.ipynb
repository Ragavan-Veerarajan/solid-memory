{
 "cells": [
  {
   "cell_type": "code",
   "execution_count": 2,
   "metadata": {},
   "outputs": [],
   "source": [
    "import tensorflow as tf"
   ]
  },
  {
   "cell_type": "code",
   "execution_count": 3,
   "metadata": {},
   "outputs": [],
   "source": [
    "import pandas as pd\n",
    "import numpy as np\n",
    "%matplotlib inline\n",
    "import matplotlib.pyplot as plt\n",
    "from os import listdir"
   ]
  },
  {
   "cell_type": "code",
   "execution_count": 12,
   "metadata": {},
   "outputs": [],
   "source": [
    "from keras.models import Sequential\n",
    "from keras.layers import Dense\n",
    "from keras.layers import LSTM\n",
    "from keras.layers import Flatten\n",
    "from keras.optimizers import Adam\n",
    "from sklearn.metrics import multilabel_confusion_matrix, accuracy_score"
   ]
  },
  {
   "cell_type": "code",
   "execution_count": 13,
   "metadata": {},
   "outputs": [
    {
     "data": {
      "text/html": [
       "<div>\n",
       "<style scoped>\n",
       "    .dataframe tbody tr th:only-of-type {\n",
       "        vertical-align: middle;\n",
       "    }\n",
       "\n",
       "    .dataframe tbody tr th {\n",
       "        vertical-align: top;\n",
       "    }\n",
       "\n",
       "    .dataframe thead th {\n",
       "        text-align: right;\n",
       "    }\n",
       "</style>\n",
       "<table border=\"1\" class=\"dataframe\">\n",
       "  <thead>\n",
       "    <tr style=\"text-align: right;\">\n",
       "      <th></th>\n",
       "      <th>9.779411554336547852e-01</th>\n",
       "      <th>9.264705777168273926e-01</th>\n",
       "      <th>6.813725233078002930e-01</th>\n",
       "      <th>2.450980395078659058e-01</th>\n",
       "      <th>1.544117629528045654e-01</th>\n",
       "      <th>1.911764740943908691e-01</th>\n",
       "      <th>1.519607901573181152e-01</th>\n",
       "      <th>8.578431606292724609e-02</th>\n",
       "      <th>5.882352963089942932e-02</th>\n",
       "      <th>4.901960864663124084e-02</th>\n",
       "      <th>...</th>\n",
       "      <th>0.000000000000000000e+00.79</th>\n",
       "      <th>0.000000000000000000e+00.80</th>\n",
       "      <th>0.000000000000000000e+00.81</th>\n",
       "      <th>0.000000000000000000e+00.82</th>\n",
       "      <th>0.000000000000000000e+00.83</th>\n",
       "      <th>0.000000000000000000e+00.84</th>\n",
       "      <th>0.000000000000000000e+00.85</th>\n",
       "      <th>0.000000000000000000e+00.86</th>\n",
       "      <th>0.000000000000000000e+00.87</th>\n",
       "      <th>0.000000000000000000e+00.88</th>\n",
       "    </tr>\n",
       "  </thead>\n",
       "  <tbody>\n",
       "    <tr>\n",
       "      <th>0</th>\n",
       "      <td>0.960114</td>\n",
       "      <td>0.863248</td>\n",
       "      <td>0.461538</td>\n",
       "      <td>0.196581</td>\n",
       "      <td>0.094017</td>\n",
       "      <td>0.125356</td>\n",
       "      <td>0.099715</td>\n",
       "      <td>0.088319</td>\n",
       "      <td>0.074074</td>\n",
       "      <td>0.082621</td>\n",
       "      <td>...</td>\n",
       "      <td>0.0</td>\n",
       "      <td>0.0</td>\n",
       "      <td>0.0</td>\n",
       "      <td>0.0</td>\n",
       "      <td>0.0</td>\n",
       "      <td>0.0</td>\n",
       "      <td>0.0</td>\n",
       "      <td>0.0</td>\n",
       "      <td>0.0</td>\n",
       "      <td>0.0</td>\n",
       "    </tr>\n",
       "    <tr>\n",
       "      <th>1</th>\n",
       "      <td>1.000000</td>\n",
       "      <td>0.659459</td>\n",
       "      <td>0.186486</td>\n",
       "      <td>0.070270</td>\n",
       "      <td>0.070270</td>\n",
       "      <td>0.059459</td>\n",
       "      <td>0.056757</td>\n",
       "      <td>0.043243</td>\n",
       "      <td>0.054054</td>\n",
       "      <td>0.045946</td>\n",
       "      <td>...</td>\n",
       "      <td>0.0</td>\n",
       "      <td>0.0</td>\n",
       "      <td>0.0</td>\n",
       "      <td>0.0</td>\n",
       "      <td>0.0</td>\n",
       "      <td>0.0</td>\n",
       "      <td>0.0</td>\n",
       "      <td>0.0</td>\n",
       "      <td>0.0</td>\n",
       "      <td>0.0</td>\n",
       "    </tr>\n",
       "    <tr>\n",
       "      <th>2</th>\n",
       "      <td>0.925414</td>\n",
       "      <td>0.665746</td>\n",
       "      <td>0.541436</td>\n",
       "      <td>0.276243</td>\n",
       "      <td>0.196133</td>\n",
       "      <td>0.077348</td>\n",
       "      <td>0.071823</td>\n",
       "      <td>0.060773</td>\n",
       "      <td>0.066298</td>\n",
       "      <td>0.058011</td>\n",
       "      <td>...</td>\n",
       "      <td>0.0</td>\n",
       "      <td>0.0</td>\n",
       "      <td>0.0</td>\n",
       "      <td>0.0</td>\n",
       "      <td>0.0</td>\n",
       "      <td>0.0</td>\n",
       "      <td>0.0</td>\n",
       "      <td>0.0</td>\n",
       "      <td>0.0</td>\n",
       "      <td>0.0</td>\n",
       "    </tr>\n",
       "    <tr>\n",
       "      <th>3</th>\n",
       "      <td>0.967136</td>\n",
       "      <td>1.000000</td>\n",
       "      <td>0.830986</td>\n",
       "      <td>0.586854</td>\n",
       "      <td>0.356808</td>\n",
       "      <td>0.248826</td>\n",
       "      <td>0.145540</td>\n",
       "      <td>0.089202</td>\n",
       "      <td>0.117371</td>\n",
       "      <td>0.150235</td>\n",
       "      <td>...</td>\n",
       "      <td>0.0</td>\n",
       "      <td>0.0</td>\n",
       "      <td>0.0</td>\n",
       "      <td>0.0</td>\n",
       "      <td>0.0</td>\n",
       "      <td>0.0</td>\n",
       "      <td>0.0</td>\n",
       "      <td>0.0</td>\n",
       "      <td>0.0</td>\n",
       "      <td>0.0</td>\n",
       "    </tr>\n",
       "    <tr>\n",
       "      <th>4</th>\n",
       "      <td>0.927461</td>\n",
       "      <td>1.000000</td>\n",
       "      <td>0.626943</td>\n",
       "      <td>0.193437</td>\n",
       "      <td>0.094991</td>\n",
       "      <td>0.072539</td>\n",
       "      <td>0.043178</td>\n",
       "      <td>0.053541</td>\n",
       "      <td>0.093264</td>\n",
       "      <td>0.189983</td>\n",
       "      <td>...</td>\n",
       "      <td>0.0</td>\n",
       "      <td>0.0</td>\n",
       "      <td>0.0</td>\n",
       "      <td>0.0</td>\n",
       "      <td>0.0</td>\n",
       "      <td>0.0</td>\n",
       "      <td>0.0</td>\n",
       "      <td>0.0</td>\n",
       "      <td>0.0</td>\n",
       "      <td>0.0</td>\n",
       "    </tr>\n",
       "  </tbody>\n",
       "</table>\n",
       "<p>5 rows × 188 columns</p>\n",
       "</div>"
      ],
      "text/plain": [
       "   9.779411554336547852e-01  9.264705777168273926e-01  \\\n",
       "0                  0.960114                  0.863248   \n",
       "1                  1.000000                  0.659459   \n",
       "2                  0.925414                  0.665746   \n",
       "3                  0.967136                  1.000000   \n",
       "4                  0.927461                  1.000000   \n",
       "\n",
       "   6.813725233078002930e-01  2.450980395078659058e-01  \\\n",
       "0                  0.461538                  0.196581   \n",
       "1                  0.186486                  0.070270   \n",
       "2                  0.541436                  0.276243   \n",
       "3                  0.830986                  0.586854   \n",
       "4                  0.626943                  0.193437   \n",
       "\n",
       "   1.544117629528045654e-01  1.911764740943908691e-01  \\\n",
       "0                  0.094017                  0.125356   \n",
       "1                  0.070270                  0.059459   \n",
       "2                  0.196133                  0.077348   \n",
       "3                  0.356808                  0.248826   \n",
       "4                  0.094991                  0.072539   \n",
       "\n",
       "   1.519607901573181152e-01  8.578431606292724609e-02  \\\n",
       "0                  0.099715                  0.088319   \n",
       "1                  0.056757                  0.043243   \n",
       "2                  0.071823                  0.060773   \n",
       "3                  0.145540                  0.089202   \n",
       "4                  0.043178                  0.053541   \n",
       "\n",
       "   5.882352963089942932e-02  4.901960864663124084e-02  ...  \\\n",
       "0                  0.074074                  0.082621  ...   \n",
       "1                  0.054054                  0.045946  ...   \n",
       "2                  0.066298                  0.058011  ...   \n",
       "3                  0.117371                  0.150235  ...   \n",
       "4                  0.093264                  0.189983  ...   \n",
       "\n",
       "   0.000000000000000000e+00.79  0.000000000000000000e+00.80  \\\n",
       "0                          0.0                          0.0   \n",
       "1                          0.0                          0.0   \n",
       "2                          0.0                          0.0   \n",
       "3                          0.0                          0.0   \n",
       "4                          0.0                          0.0   \n",
       "\n",
       "   0.000000000000000000e+00.81  0.000000000000000000e+00.82  \\\n",
       "0                          0.0                          0.0   \n",
       "1                          0.0                          0.0   \n",
       "2                          0.0                          0.0   \n",
       "3                          0.0                          0.0   \n",
       "4                          0.0                          0.0   \n",
       "\n",
       "   0.000000000000000000e+00.83  0.000000000000000000e+00.84  \\\n",
       "0                          0.0                          0.0   \n",
       "1                          0.0                          0.0   \n",
       "2                          0.0                          0.0   \n",
       "3                          0.0                          0.0   \n",
       "4                          0.0                          0.0   \n",
       "\n",
       "   0.000000000000000000e+00.85  0.000000000000000000e+00.86  \\\n",
       "0                          0.0                          0.0   \n",
       "1                          0.0                          0.0   \n",
       "2                          0.0                          0.0   \n",
       "3                          0.0                          0.0   \n",
       "4                          0.0                          0.0   \n",
       "\n",
       "   0.000000000000000000e+00.87  0.000000000000000000e+00.88  \n",
       "0                          0.0                          0.0  \n",
       "1                          0.0                          0.0  \n",
       "2                          0.0                          0.0  \n",
       "3                          0.0                          0.0  \n",
       "4                          0.0                          0.0  \n",
       "\n",
       "[5 rows x 188 columns]"
      ]
     },
     "execution_count": 13,
     "metadata": {},
     "output_type": "execute_result"
    }
   ],
   "source": [
    "ecg_dataset = pd.read_csv(\"mitbih_train.csv\")\n",
    "ecg_dataset.head()"
   ]
  },
  {
   "cell_type": "code",
   "execution_count": 20,
   "metadata": {},
   "outputs": [],
   "source": [
    "data = ecg_dataset.drop('0.000000000000000000e+00.88',axis=1)\n",
    "label = ecg_dataset[['0.000000000000000000e+00.88']]"
   ]
  },
  {
   "cell_type": "code",
   "execution_count": 21,
   "metadata": {},
   "outputs": [],
   "source": [
    "X_train = data.values\n",
    "y_train = label.values.reshape(len(X_train))\n",
    "X_train = X_train.reshape(X_train.shape[0],1,X_train.shape[1])"
   ]
  },
  {
   "cell_type": "code",
   "execution_count": 28,
   "metadata": {},
   "outputs": [],
   "source": [
    "y_train = tf.keras.utils.to_categorical(y_train, 5).astype(int)"
   ]
  },
  {
   "cell_type": "code",
   "execution_count": 24,
   "metadata": {},
   "outputs": [],
   "source": [
    "model = Sequential()\n",
    "model.add(LSTM(374, activation='tanh', input_shape=(1,187), return_sequences=False))\n",
    "model.add(Dense(5,activation = 'softmax'))\n",
    "model.compile(loss=\"categorical_crossentropy\", optimizer=Adam(lr=0.001), metrics=[\"accuracy\"])"
   ]
  },
  {
   "cell_type": "code",
   "execution_count": 25,
   "metadata": {},
   "outputs": [
    {
     "name": "stdout",
     "output_type": "stream",
     "text": [
      "Train on 87553 samples, validate on 87553 samples\n",
      "Epoch 1/10\n",
      "87553/87553 [==============================] - 100s 1ms/step - loss: 0.2600 - accuracy: 0.9282 - val_loss: 0.1742 - val_accuracy: 0.9539\n",
      "Epoch 2/10\n",
      "87553/87553 [==============================] - 109s 1ms/step - loss: 0.1619 - accuracy: 0.9557 - val_loss: 0.1378 - val_accuracy: 0.9631\n",
      "Epoch 3/10\n",
      "87553/87553 [==============================] - 94s 1ms/step - loss: 0.1330 - accuracy: 0.9631 - val_loss: 0.1180 - val_accuracy: 0.9665\n",
      "Epoch 4/10\n",
      "87553/87553 [==============================] - 129s 1ms/step - loss: 0.1162 - accuracy: 0.9672 - val_loss: 0.1007 - val_accuracy: 0.9717\n",
      "Epoch 5/10\n",
      "87553/87553 [==============================] - 150s 2ms/step - loss: 0.1026 - accuracy: 0.9710 - val_loss: 0.0931 - val_accuracy: 0.9737\n",
      "Epoch 6/10\n",
      "87553/87553 [==============================] - 149s 2ms/step - loss: 0.0948 - accuracy: 0.9727 - val_loss: 0.0966 - val_accuracy: 0.9717\n",
      "Epoch 7/10\n",
      "87553/87553 [==============================] - 145s 2ms/step - loss: 0.0881 - accuracy: 0.9747 - val_loss: 0.0801 - val_accuracy: 0.9766\n",
      "Epoch 8/10\n",
      "87553/87553 [==============================] - 146s 2ms/step - loss: 0.0822 - accuracy: 0.9759 - val_loss: 0.0790 - val_accuracy: 0.9766\n",
      "Epoch 9/10\n",
      "87553/87553 [==============================] - 102s 1ms/step - loss: 0.0783 - accuracy: 0.9771 - val_loss: 0.0691 - val_accuracy: 0.9792\n",
      "Epoch 10/10\n",
      "87553/87553 [==============================] - 90s 1ms/step - loss: 0.0742 - accuracy: 0.9780 - val_loss: 0.0694 - val_accuracy: 0.9796loss: 0.074\n"
     ]
    },
    {
     "data": {
      "text/plain": [
       "<keras.callbacks.callbacks.History at 0x21f4f555188>"
      ]
     },
     "execution_count": 25,
     "metadata": {},
     "output_type": "execute_result"
    }
   ],
   "source": [
    "model.fit(X_train, y_train, epochs=10, validation_data= (X_train,y_train),batch_size=32)"
   ]
  },
  {
   "cell_type": "markdown",
   "metadata": {},
   "source": [
    "Test Data Check"
   ]
  },
  {
   "cell_type": "code",
   "execution_count": 26,
   "metadata": {},
   "outputs": [
    {
     "data": {
      "text/html": [
       "<div>\n",
       "<style scoped>\n",
       "    .dataframe tbody tr th:only-of-type {\n",
       "        vertical-align: middle;\n",
       "    }\n",
       "\n",
       "    .dataframe tbody tr th {\n",
       "        vertical-align: top;\n",
       "    }\n",
       "\n",
       "    .dataframe thead th {\n",
       "        text-align: right;\n",
       "    }\n",
       "</style>\n",
       "<table border=\"1\" class=\"dataframe\">\n",
       "  <thead>\n",
       "    <tr style=\"text-align: right;\">\n",
       "      <th></th>\n",
       "      <th>1.000000000000000000e+00</th>\n",
       "      <th>7.582644820213317871e-01</th>\n",
       "      <th>1.115702465176582336e-01</th>\n",
       "      <th>0.000000000000000000e+00</th>\n",
       "      <th>8.057851344347000122e-02</th>\n",
       "      <th>7.851240038871765137e-02</th>\n",
       "      <th>6.611569970846176147e-02</th>\n",
       "      <th>4.958677664399147034e-02</th>\n",
       "      <th>4.752065986394882202e-02</th>\n",
       "      <th>3.512396663427352905e-02</th>\n",
       "      <th>...</th>\n",
       "      <th>0.000000000000000000e+00.56</th>\n",
       "      <th>0.000000000000000000e+00.57</th>\n",
       "      <th>0.000000000000000000e+00.58</th>\n",
       "      <th>0.000000000000000000e+00.59</th>\n",
       "      <th>0.000000000000000000e+00.60</th>\n",
       "      <th>0.000000000000000000e+00.61</th>\n",
       "      <th>0.000000000000000000e+00.62</th>\n",
       "      <th>0.000000000000000000e+00.63</th>\n",
       "      <th>0.000000000000000000e+00.64</th>\n",
       "      <th>0.000000000000000000e+00.65</th>\n",
       "    </tr>\n",
       "  </thead>\n",
       "  <tbody>\n",
       "    <tr>\n",
       "      <th>21886</th>\n",
       "      <td>0.928736</td>\n",
       "      <td>0.871264</td>\n",
       "      <td>0.804598</td>\n",
       "      <td>0.742529</td>\n",
       "      <td>0.650575</td>\n",
       "      <td>0.535632</td>\n",
       "      <td>0.394253</td>\n",
       "      <td>0.250575</td>\n",
       "      <td>0.140230</td>\n",
       "      <td>0.102299</td>\n",
       "      <td>...</td>\n",
       "      <td>0.0</td>\n",
       "      <td>0.0</td>\n",
       "      <td>0.0</td>\n",
       "      <td>0.0</td>\n",
       "      <td>0.0</td>\n",
       "      <td>0.0</td>\n",
       "      <td>0.0</td>\n",
       "      <td>0.0</td>\n",
       "      <td>0.0</td>\n",
       "      <td>4.0</td>\n",
       "    </tr>\n",
       "    <tr>\n",
       "      <th>21887</th>\n",
       "      <td>0.802691</td>\n",
       "      <td>0.692078</td>\n",
       "      <td>0.587444</td>\n",
       "      <td>0.446936</td>\n",
       "      <td>0.318386</td>\n",
       "      <td>0.189836</td>\n",
       "      <td>0.118087</td>\n",
       "      <td>0.077728</td>\n",
       "      <td>0.112108</td>\n",
       "      <td>0.152466</td>\n",
       "      <td>...</td>\n",
       "      <td>0.0</td>\n",
       "      <td>0.0</td>\n",
       "      <td>0.0</td>\n",
       "      <td>0.0</td>\n",
       "      <td>0.0</td>\n",
       "      <td>0.0</td>\n",
       "      <td>0.0</td>\n",
       "      <td>0.0</td>\n",
       "      <td>0.0</td>\n",
       "      <td>4.0</td>\n",
       "    </tr>\n",
       "    <tr>\n",
       "      <th>21888</th>\n",
       "      <td>1.000000</td>\n",
       "      <td>0.967359</td>\n",
       "      <td>0.620178</td>\n",
       "      <td>0.347181</td>\n",
       "      <td>0.139466</td>\n",
       "      <td>0.089021</td>\n",
       "      <td>0.103858</td>\n",
       "      <td>0.100890</td>\n",
       "      <td>0.106825</td>\n",
       "      <td>0.100890</td>\n",
       "      <td>...</td>\n",
       "      <td>0.0</td>\n",
       "      <td>0.0</td>\n",
       "      <td>0.0</td>\n",
       "      <td>0.0</td>\n",
       "      <td>0.0</td>\n",
       "      <td>0.0</td>\n",
       "      <td>0.0</td>\n",
       "      <td>0.0</td>\n",
       "      <td>0.0</td>\n",
       "      <td>4.0</td>\n",
       "    </tr>\n",
       "    <tr>\n",
       "      <th>21889</th>\n",
       "      <td>0.984127</td>\n",
       "      <td>0.567460</td>\n",
       "      <td>0.607143</td>\n",
       "      <td>0.583333</td>\n",
       "      <td>0.607143</td>\n",
       "      <td>0.575397</td>\n",
       "      <td>0.575397</td>\n",
       "      <td>0.488095</td>\n",
       "      <td>0.392857</td>\n",
       "      <td>0.238095</td>\n",
       "      <td>...</td>\n",
       "      <td>0.0</td>\n",
       "      <td>0.0</td>\n",
       "      <td>0.0</td>\n",
       "      <td>0.0</td>\n",
       "      <td>0.0</td>\n",
       "      <td>0.0</td>\n",
       "      <td>0.0</td>\n",
       "      <td>0.0</td>\n",
       "      <td>0.0</td>\n",
       "      <td>4.0</td>\n",
       "    </tr>\n",
       "    <tr>\n",
       "      <th>21890</th>\n",
       "      <td>0.973970</td>\n",
       "      <td>0.913232</td>\n",
       "      <td>0.865510</td>\n",
       "      <td>0.823210</td>\n",
       "      <td>0.746204</td>\n",
       "      <td>0.642082</td>\n",
       "      <td>0.547722</td>\n",
       "      <td>0.426247</td>\n",
       "      <td>0.325380</td>\n",
       "      <td>0.279826</td>\n",
       "      <td>...</td>\n",
       "      <td>0.0</td>\n",
       "      <td>0.0</td>\n",
       "      <td>0.0</td>\n",
       "      <td>0.0</td>\n",
       "      <td>0.0</td>\n",
       "      <td>0.0</td>\n",
       "      <td>0.0</td>\n",
       "      <td>0.0</td>\n",
       "      <td>0.0</td>\n",
       "      <td>4.0</td>\n",
       "    </tr>\n",
       "  </tbody>\n",
       "</table>\n",
       "<p>5 rows × 188 columns</p>\n",
       "</div>"
      ],
      "text/plain": [
       "       1.000000000000000000e+00  7.582644820213317871e-01  \\\n",
       "21886                  0.928736                  0.871264   \n",
       "21887                  0.802691                  0.692078   \n",
       "21888                  1.000000                  0.967359   \n",
       "21889                  0.984127                  0.567460   \n",
       "21890                  0.973970                  0.913232   \n",
       "\n",
       "       1.115702465176582336e-01  0.000000000000000000e+00  \\\n",
       "21886                  0.804598                  0.742529   \n",
       "21887                  0.587444                  0.446936   \n",
       "21888                  0.620178                  0.347181   \n",
       "21889                  0.607143                  0.583333   \n",
       "21890                  0.865510                  0.823210   \n",
       "\n",
       "       8.057851344347000122e-02  7.851240038871765137e-02  \\\n",
       "21886                  0.650575                  0.535632   \n",
       "21887                  0.318386                  0.189836   \n",
       "21888                  0.139466                  0.089021   \n",
       "21889                  0.607143                  0.575397   \n",
       "21890                  0.746204                  0.642082   \n",
       "\n",
       "       6.611569970846176147e-02  4.958677664399147034e-02  \\\n",
       "21886                  0.394253                  0.250575   \n",
       "21887                  0.118087                  0.077728   \n",
       "21888                  0.103858                  0.100890   \n",
       "21889                  0.575397                  0.488095   \n",
       "21890                  0.547722                  0.426247   \n",
       "\n",
       "       4.752065986394882202e-02  3.512396663427352905e-02  ...  \\\n",
       "21886                  0.140230                  0.102299  ...   \n",
       "21887                  0.112108                  0.152466  ...   \n",
       "21888                  0.106825                  0.100890  ...   \n",
       "21889                  0.392857                  0.238095  ...   \n",
       "21890                  0.325380                  0.279826  ...   \n",
       "\n",
       "       0.000000000000000000e+00.56  0.000000000000000000e+00.57  \\\n",
       "21886                          0.0                          0.0   \n",
       "21887                          0.0                          0.0   \n",
       "21888                          0.0                          0.0   \n",
       "21889                          0.0                          0.0   \n",
       "21890                          0.0                          0.0   \n",
       "\n",
       "       0.000000000000000000e+00.58  0.000000000000000000e+00.59  \\\n",
       "21886                          0.0                          0.0   \n",
       "21887                          0.0                          0.0   \n",
       "21888                          0.0                          0.0   \n",
       "21889                          0.0                          0.0   \n",
       "21890                          0.0                          0.0   \n",
       "\n",
       "       0.000000000000000000e+00.60  0.000000000000000000e+00.61  \\\n",
       "21886                          0.0                          0.0   \n",
       "21887                          0.0                          0.0   \n",
       "21888                          0.0                          0.0   \n",
       "21889                          0.0                          0.0   \n",
       "21890                          0.0                          0.0   \n",
       "\n",
       "       0.000000000000000000e+00.62  0.000000000000000000e+00.63  \\\n",
       "21886                          0.0                          0.0   \n",
       "21887                          0.0                          0.0   \n",
       "21888                          0.0                          0.0   \n",
       "21889                          0.0                          0.0   \n",
       "21890                          0.0                          0.0   \n",
       "\n",
       "       0.000000000000000000e+00.64  0.000000000000000000e+00.65  \n",
       "21886                          0.0                          4.0  \n",
       "21887                          0.0                          4.0  \n",
       "21888                          0.0                          4.0  \n",
       "21889                          0.0                          4.0  \n",
       "21890                          0.0                          4.0  \n",
       "\n",
       "[5 rows x 188 columns]"
      ]
     },
     "execution_count": 26,
     "metadata": {},
     "output_type": "execute_result"
    }
   ],
   "source": [
    "ecg_dataset_test = pd.read_csv(\"mitbih_test.csv\")\n",
    "data_test = ecg_dataset_test.drop('0.000000000000000000e+00.65',axis=1)\n",
    "label_test = ecg_dataset_test[['0.000000000000000000e+00.65']]\n",
    "ecg_dataset_test.tail()"
   ]
  },
  {
   "cell_type": "code",
   "execution_count": 29,
   "metadata": {},
   "outputs": [],
   "source": [
    "X_test = data_test.values\n",
    "X_test = X_test.reshape(X_test.shape[0],1,X_test.shape[1])\n",
    "y_test = label_test.values.reshape(len(X_test))\n",
    "y_test = tf.keras.utils.to_categorical(y_test, 5).astype(int)"
   ]
  },
  {
   "cell_type": "code",
   "execution_count": 30,
   "metadata": {},
   "outputs": [],
   "source": [
    "actual_test = label_test.values.reshape(len(X_test)).astype(int)"
   ]
  },
  {
   "cell_type": "code",
   "execution_count": 40,
   "metadata": {},
   "outputs": [],
   "source": [
    "pred = model.predict_classes(X_test)"
   ]
  },
  {
   "cell_type": "code",
   "execution_count": 41,
   "metadata": {},
   "outputs": [
    {
     "data": {
      "text/plain": [
       "0.9732766890502946"
      ]
     },
     "execution_count": 41,
     "metadata": {},
     "output_type": "execute_result"
    }
   ],
   "source": [
    "accuracy_score(actual_test, pred)"
   ]
  },
  {
   "cell_type": "code",
   "execution_count": 33,
   "metadata": {},
   "outputs": [],
   "source": [
    "test_seq_class_0 = data.iloc[10].values.reshape(1,1,187)\n",
    "test_seq_class_1 = data.iloc[73482].values.reshape(1,1,187)\n",
    "test_seq_class_2 = data.iloc[74935].values.reshape(1,1,187)\n",
    "test_seq_class_3 = data.iloc[80689].values.reshape(1,1,187)\n",
    "test_seq_class_4 = data.iloc[87542].values.reshape(1,1,187)"
   ]
  },
  {
   "cell_type": "code",
   "execution_count": 34,
   "metadata": {},
   "outputs": [],
   "source": [
    "def predict_class_ecg (ecg_sequence):\n",
    "    pred_class = model.predict_classes(ecg_sequence)\n",
    "    plt.plot(ecg_sequence.reshape(187,))\n",
    "    return pred_class"
   ]
  },
  {
   "cell_type": "code",
   "execution_count": 35,
   "metadata": {},
   "outputs": [
    {
     "data": {
      "text/plain": [
       "array([0], dtype=int64)"
      ]
     },
     "execution_count": 35,
     "metadata": {},
     "output_type": "execute_result"
    },
    {
     "data": {
      "image/png": "[encoded data removed]",
      "text/plain": [
       "<Figure size 432x288 with 1 Axes>"
      ]
     },
     "metadata": {
      "needs_background": "light"
     },
     "output_type": "display_data"
    }
   ],
   "source": [
    "predict_class_ecg(test_seq_class_0)"
   ]
  },
  {
   "cell_type": "code",
   "execution_count": 36,
   "metadata": {},
   "outputs": [
    {
     "data": {
      "text/plain": [
       "array([1], dtype=int64)"
      ]
     },
     "execution_count": 36,
     "metadata": {},
     "output_type": "execute_result"
    },
    {
     "data": {
      "image/png": "[encoded data removed]",
      "text/plain": [
       "<Figure size 432x288 with 1 Axes>"
      ]
     },
     "metadata": {
      "needs_background": "light"
     },
     "output_type": "display_data"
    }
   ],
   "source": [
    "predict_class_ecg(test_seq_class_1)"
   ]
  },
  {
   "cell_type": "code",
   "execution_count": 37,
   "metadata": {},
   "outputs": [
    {
     "data": {
      "text/plain": [
       "array([2], dtype=int64)"
      ]
     },
     "execution_count": 37,
     "metadata": {},
     "output_type": "execute_result"
    },
    {
     "data": {
      "image/png": "[encoded data removed]",
      "text/plain": [
       "<Figure size 432x288 with 1 Axes>"
      ]
     },
     "metadata": {
      "needs_background": "light"
     },
     "output_type": "display_data"
    }
   ],
   "source": [
    "predict_class_ecg(test_seq_class_2)"
   ]
  },
  {
   "cell_type": "code",
   "execution_count": 38,
   "metadata": {},
   "outputs": [
    {
     "data": {
      "text/plain": [
       "array([3], dtype=int64)"
      ]
     },
     "execution_count": 38,
     "metadata": {},
     "output_type": "execute_result"
    },
    {
     "data": {
      "image/png": "[encoded data removed]",
      "text/plain": [
       "<Figure size 432x288 with 1 Axes>"
      ]
     },
     "metadata": {
      "needs_background": "light"
     },
     "output_type": "display_data"
    }
   ],
   "source": [
    "predict_class_ecg(test_seq_class_3)"
   ]
  },
  {
   "cell_type": "code",
   "execution_count": 39,
   "metadata": {},
   "outputs": [
    {
     "data": {
      "text/plain": [
       "array([4], dtype=int64)"
      ]
     },
     "execution_count": 39,
     "metadata": {},
     "output_type": "execute_result"
    },
    {
     "data": {
      "image/png": "[encoded data removed]",
      "text/plain": [
       "<Figure size 432x288 with 1 Axes>"
      ]
     },
     "metadata": {
      "needs_background": "light"
     },
     "output_type": "display_data"
    }
   ],
   "source": [
    "predict_class_ecg(test_seq_class_4)"
   ]
  }
 ],
 "metadata": {
  "kernelspec": {
   "display_name": "Python 3",
   "language": "python",
   "name": "python3"
  },
  "language_info": {
   "codemirror_mode": {
    "name": "ipython",
    "version": 3
   },
   "file_extension": ".py",
   "mimetype": "text/x-python",
   "name": "python",
   "nbconvert_exporter": "python",
   "pygments_lexer": "ipython3",
   "version": "3.7.7"
  }
 },
 "nbformat": 4,
 "nbformat_minor": 4
}
